version https://git-lfs.github.com/spec/v1
oid sha256:1478a137724542c2c7813772f2d447100c8d03b2a246ee3c5edec9c2e8164d1e
size 1275093
